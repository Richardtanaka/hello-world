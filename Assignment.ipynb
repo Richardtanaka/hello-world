{
  "nbformat": 4,
  "nbformat_minor": 0,
  "metadata": {
    "colab": {
      "provenance": []
    },
    "kernelspec": {
      "name": "python3",
      "display_name": "Python 3"
    },
    "language_info": {
      "name": "python"
    }
  },
  "cells": [
    {
      "cell_type": "code",
      "execution_count": null,
      "metadata": {
        "id": "AUUEo8UIJ6Mg"
      },
      "outputs": [],
      "source": [
        "# Notebook\n"
      ]
    },
    {
      "cell_type": "code",
      "source": [
        "## Introduction\n"
      ],
      "metadata": {
        "id": "wtSG3YyrKCik"
      },
      "execution_count": null,
      "outputs": []
    },
    {
      "cell_type": "code",
      "source": [
        "#This notebook provides an overview of various data science concepts"
      ],
      "metadata": {
        "id": "7P1QJm-GKaAX"
      },
      "execution_count": null,
      "outputs": []
    },
    {
      "cell_type": "code",
      "source": [
        "## Data Science Languages\n",
        "- Python\n",
        "- R\n",
        "- SQL\n",
        "- Julia\n",
        "- Scala\n"
      ],
      "metadata": {
        "id": "dsEo7ewhKN2O"
      },
      "execution_count": null,
      "outputs": []
    },
    {
      "cell_type": "code",
      "source": [
        "## Data Science Libraries\n",
        "- Pandas (Python)\n",
        "- NumPy (Python)\n",
        "- Scikit-learn (Python)\n",
        "- TensorFlow (Python)\n",
        "- ggplot2 (R)\n",
        "- dplyr (R)"
      ],
      "metadata": {
        "id": "9Tl8tE7aKy7Q"
      },
      "execution_count": null,
      "outputs": []
    },
    {
      "cell_type": "code",
      "source": [
        "## Data Science Tools\n",
        "\n",
        "| Tool Name | Type | Description |\n",
        "|-----------|------|-------------|\n",
        "| Jupyter Notebook | IDE | An open-source web application that allows you to create and share documents that contain live code, equations, visualizations, and narrative text. |\n",
        "| Tableau | Visualization | A powerful data visualization tool used in the Business Intelligence Industry for data analysis. |\n",
        "| Apache Spark | Big Data | A unified analytics engine for large-scale data processing. |\n",
        "| SQL Database | Database | A structured query language used for managing and manipulating relational databases. |\n"
      ],
      "metadata": {
        "id": "psKSW6v0LCfW"
      },
      "execution_count": null,
      "outputs": []
    },
    {
      "cell_type": "code",
      "source": [
        "## Arithmetic Expression\n",
        "#we'll demonstrate basic arithmetic operations such as addition, multiplication, and conversion of minutes to hours in Python.\n"
      ],
      "metadata": {
        "id": "Z-mfPbvkLHjl"
      },
      "execution_count": null,
      "outputs": []
    },
    {
      "cell_type": "code",
      "source": [
        "# Multiplying and adding numbers\n",
        "result = (5 * 10) + (2 * 3)\n",
        "print(result)\n"
      ],
      "metadata": {
        "id": "lcJ0v3FjLO3i"
      },
      "execution_count": null,
      "outputs": []
    },
    {
      "cell_type": "code",
      "source": [
        "# Converting minutes to hours\n",
        "minutes = 120\n",
        "hours = minutes / 60\n",
        "print(f\"{minutes} minutes is equal to {hours} hours.\")\n"
      ],
      "metadata": {
        "id": "YABqjXfPLVaU"
      },
      "execution_count": null,
      "outputs": []
    },
    {
      "cell_type": "code",
      "source": [
        "## Objectives\n",
        "- Understand the basics of data science languages and libraries.\n",
        "- Familiarize with common data science tools.\n",
        "- Learn basic arithmetic expressions in Python.\n",
        "- Convert units from minutes to hours.\n"
      ],
      "metadata": {
        "id": "ibCJUy-oLajc"
      },
      "execution_count": null,
      "outputs": []
    },
    {
      "cell_type": "code",
      "source": [
        "## Author\n",
        "- Richard Tanaka\n"
      ],
      "metadata": {
        "id": "DE99fbtxLgsr"
      },
      "execution_count": null,
      "outputs": []
    }
  ]
}